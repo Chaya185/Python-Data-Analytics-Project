{
 "cells": [
  {
   "cell_type": "markdown",
   "metadata": {},
   "source": [
    "Merge Datasets:"
   ]
  },
  {
   "cell_type": "code",
   "execution_count": 4,
   "metadata": {},
   "outputs": [
    {
     "name": "stdout",
     "output_type": "stream",
     "text": [
      "Merged completed.\n"
     ]
    }
   ],
   "source": [
    "import pandas as pd\n",
    "\n",
    "df1 = pd.read_csv(\"MLB_Stats_Part1.csv\")\n",
    "df2 = pd.read_csv(\"MLB_Stats_Part2.csv\")\n",
    "df3 = pd.read_csv(\"MLB_Stats_Part3.csv\")\n",
    "df4 = pd.read_csv(\"MLB_Stats_Part4.csv\")\n",
    "\n",
    "# Merge dataframes on 'player_id' and 'year' columns.\n",
    "merged_df = (\n",
    "    df1.merge(df2, on=['player_id', 'year'], how='inner', suffixes=('_df1', '_df2')).\n",
    "        merge(df3, on=['player_id', 'year'], how='inner', suffixes=('_df2', '_df3')).\n",
    "        merge(df4, on=['player_id', 'year'], how='inner', suffixes=('_df3', '_df4'))\n",
    ")\n",
    "\n",
    "# Save merged files into new file\n",
    "merged_df.to_csv('MLB_Stats_2015-2024.csv', index=False)\n",
    "\n",
    "print('Merged completed.')"
   ]
  }
 ],
 "metadata": {
  "kernelspec": {
   "display_name": "base",
   "language": "python",
   "name": "python3"
  },
  "language_info": {
   "codemirror_mode": {
    "name": "ipython",
    "version": 3
   },
   "file_extension": ".py",
   "mimetype": "text/x-python",
   "name": "python",
   "nbconvert_exporter": "python",
   "pygments_lexer": "ipython3",
   "version": "3.12.4"
  }
 },
 "nbformat": 4,
 "nbformat_minor": 2
}
